{
 "cells": [
  {
   "cell_type": "code",
   "execution_count": 1,
   "metadata": {
    "collapsed": true
   },
   "outputs": [],
   "source": [
    "import torch, os\n",
    "import torchvision\n",
    "import torch.nn as nn\n",
    "import torch.nn.functional as F\n",
    "from torchvision import datasets\n",
    "from torchvision import transforms\n",
    "from torchvision.datasets import ImageFolder\n",
    "from torchvision.utils import save_image\n",
    "from torchvision.utils import make_grid\n",
    "from torch.autograd import Variable\n",
    "from torch.utils.data import DataLoader\n",
    "import matplotlib.pyplot as plt\n"
   ]
  },
  {
   "cell_type": "code",
   "execution_count": 41,
   "metadata": {
    "collapsed": true
   },
   "outputs": [],
   "source": [
    "lr = 0.0001\n",
    "max_epoch = 20\n",
    "batch_size = 64\n",
    "z_dim = 100\n",
    "image_size = 64\n",
    "g_conv_dim = 4\n",
    "d_conv_dim = 64\n",
    "log_step = 100\n",
    "sample_step = 500\n",
    "sample_num = 32"
   ]
  },
  {
   "cell_type": "code",
   "execution_count": 59,
   "metadata": {},
   "outputs": [
    {
     "data": {
      "text/plain": [
       "Generator(\n",
       "  (fc): Linear(in_features=100, out_features=1024, bias=True)\n",
       "  (deconv1): Sequential(\n",
       "    (0): ConvTranspose1d(64, 32, kernel_size=(25,), stride=(4,), padding=(1,))\n",
       "    (1): BatchNorm1d(32, eps=1e-05, momentum=0.1, affine=True, track_running_stats=True)\n",
       "  )\n",
       "  (deconv2): Sequential(\n",
       "    (0): ConvTranspose1d(32, 16, kernel_size=(25,), stride=(4,), padding=(1,))\n",
       "    (1): BatchNorm1d(16, eps=1e-05, momentum=0.1, affine=True, track_running_stats=True)\n",
       "  )\n",
       "  (deconv3): Sequential(\n",
       "    (0): ConvTranspose1d(16, 8, kernel_size=(25,), stride=(4,), padding=(1,))\n",
       "    (1): BatchNorm1d(8, eps=1e-05, momentum=0.1, affine=True, track_running_stats=True)\n",
       "  )\n",
       "  (deconv4): Sequential(\n",
       "    (0): ConvTranspose1d(8, 4, kernel_size=(25,), stride=(4,), padding=(1,))\n",
       "    (1): BatchNorm1d(4, eps=1e-05, momentum=0.1, affine=True, track_running_stats=True)\n",
       "  )\n",
       "  (deconv5): Sequential(\n",
       "    (0): ConvTranspose1d(4, 1, kernel_size=(25,), stride=(4,), padding=(1,))\n",
       "  )\n",
       ")"
      ]
     },
     "execution_count": 59,
     "metadata": {},
     "output_type": "execute_result"
    }
   ],
   "source": [
    "def deconv(c_in, c_out, k_size, stride=2, pad=1, bn=True):\n",
    "    \"\"\"Custom deconvolutional layer for simplicity.\"\"\"\n",
    "    layers = []\n",
    "    layers.append(nn.ConvTranspose2d(c_in, c_out, k_size, stride, pad))\n",
    "    if bn:\n",
    "        layers.append(nn.BatchNorm2d(c_out))\n",
    "    return nn.Sequential(*layers)\n",
    "\n",
    "def deconv1d(c_in, c_out, k_size, stride=4, pad=1,bn=True):\n",
    "    \"\"\"Custom convolutional 1d lyaer for simplicity.\"\"\"\n",
    "    layers = []\n",
    "    layers.append(nn.ConvTranspose1d(c_in, c_out, k_size,stride,pad))\n",
    "    if bn:\n",
    "        layers.append(nn.BatchNorm1d(c_out))\n",
    "    return nn.Sequential(*layers)\n",
    "\n",
    "class WaveGAN_Generator(nn.Module):\n",
    "    \"\"\"Generator containing 7 deconvolutional layers.\"\"\"\n",
    "    def __init__(self, z_dim=100, image_size=128, conv_dim=g_conv_dim):\n",
    "        super(WaveGAN_Generator, self).__init__()\n",
    "        self.fc = nn.Linear(z_dim, 256*conv_dim)\n",
    "        #self.fc = deconv(z_dim, conv_dim*8, int(image_size/16), 1, 0, bn=False)\n",
    "        self.deconv1 = deconv1d(conv_dim*16, conv_dim*8, 25)\n",
    "        self.deconv2 = deconv1d(conv_dim*8, conv_dim*4, 25)\n",
    "        self.deconv3 = deconv1d(conv_dim*4, conv_dim*2, 25)\n",
    "        self.deconv4 = deconv1d(conv_dim*2, conv_dim, 25)\n",
    "        self.deconv5 = deconv1d(conv_dim, 1, 25, bn=False)\n",
    "        \n",
    "    def forward(self, z):\n",
    "        print(z.size())\n",
    "#        z = z.view(z.size(0), z.size(1))      # If image_size is 64, output shape is as below.\n",
    "        out = self.fc(z)                 # (?, 256d)\n",
    "        print(out.size())\n",
    "        out = out.view(out.size(0), 16*g_conv_dim, 16) # (?,16,16d)\n",
    "        print(out.size())\n",
    "        out = F.relu(out)\n",
    "        print(self.deconv1(out).size())\n",
    "        out = F.relu(self.deconv1(out))  # (?, 64, 8d)\n",
    "        out = F.relu(self.deconv2(out))  # (?, 256, 4d)\n",
    "        out = F.relu(self.deconv3(out))  # (?, 1024, 2d)\n",
    "        out = F.relu(self.deconv4(out))  # (?, 4096, d)\n",
    "        out = F.tanh(self.deconv5(out))  # (?, 16384, c)\n",
    "        return out\n",
    "    \n",
    "G = Generator(z_dim,image_size,g_conv_dim)\n",
    "G"
   ]
  },
  {
   "cell_type": "code",
   "execution_count": 60,
   "metadata": {},
   "outputs": [
    {
     "data": {
      "text/plain": [
       "tensor([[ 1.,  1.,  1.,  1.,  1.,  1.,  1.,  1.,  1.,  1.,  1.,  1.,\n",
       "          1.,  1.,  1.,  1.,  1.,  1.,  1.,  1.,  1.,  1.,  1.,  1.,\n",
       "          1.,  1.,  1.,  1.,  1.,  1.,  1.,  1.,  1.,  1.,  1.,  1.,\n",
       "          1.,  1.,  1.,  1.,  1.,  1.,  1.,  1.,  1.,  1.,  1.,  1.,\n",
       "          1.,  1.,  1.,  1.,  1.,  1.,  1.,  1.,  1.,  1.,  1.,  1.,\n",
       "          1.,  1.,  1.,  1.,  1.,  1.,  1.,  1.,  1.,  1.,  1.,  1.,\n",
       "          1.,  1.,  1.,  1.,  1.,  1.,  1.,  1.,  1.,  1.,  1.,  1.,\n",
       "          1.,  1.,  1.,  1.,  1.,  1.,  1.,  1.,  1.,  1.,  1.,  1.,\n",
       "          1.,  1.,  1.,  1.],\n",
       "        [ 1.,  1.,  1.,  1.,  1.,  1.,  1.,  1.,  1.,  1.,  1.,  1.,\n",
       "          1.,  1.,  1.,  1.,  1.,  1.,  1.,  1.,  1.,  1.,  1.,  1.,\n",
       "          1.,  1.,  1.,  1.,  1.,  1.,  1.,  1.,  1.,  1.,  1.,  1.,\n",
       "          1.,  1.,  1.,  1.,  1.,  1.,  1.,  1.,  1.,  1.,  1.,  1.,\n",
       "          1.,  1.,  1.,  1.,  1.,  1.,  1.,  1.,  1.,  1.,  1.,  1.,\n",
       "          1.,  1.,  1.,  1.,  1.,  1.,  1.,  1.,  1.,  1.,  1.,  1.,\n",
       "          1.,  1.,  1.,  1.,  1.,  1.,  1.,  1.,  1.,  1.,  1.,  1.,\n",
       "          1.,  1.,  1.,  1.,  1.,  1.,  1.,  1.,  1.,  1.,  1.,  1.,\n",
       "          1.,  1.,  1.,  1.],\n",
       "        [ 1.,  1.,  1.,  1.,  1.,  1.,  1.,  1.,  1.,  1.,  1.,  1.,\n",
       "          1.,  1.,  1.,  1.,  1.,  1.,  1.,  1.,  1.,  1.,  1.,  1.,\n",
       "          1.,  1.,  1.,  1.,  1.,  1.,  1.,  1.,  1.,  1.,  1.,  1.,\n",
       "          1.,  1.,  1.,  1.,  1.,  1.,  1.,  1.,  1.,  1.,  1.,  1.,\n",
       "          1.,  1.,  1.,  1.,  1.,  1.,  1.,  1.,  1.,  1.,  1.,  1.,\n",
       "          1.,  1.,  1.,  1.,  1.,  1.,  1.,  1.,  1.,  1.,  1.,  1.,\n",
       "          1.,  1.,  1.,  1.,  1.,  1.,  1.,  1.,  1.,  1.,  1.,  1.,\n",
       "          1.,  1.,  1.,  1.,  1.,  1.,  1.,  1.,  1.,  1.,  1.,  1.,\n",
       "          1.,  1.,  1.,  1.],\n",
       "        [ 1.,  1.,  1.,  1.,  1.,  1.,  1.,  1.,  1.,  1.,  1.,  1.,\n",
       "          1.,  1.,  1.,  1.,  1.,  1.,  1.,  1.,  1.,  1.,  1.,  1.,\n",
       "          1.,  1.,  1.,  1.,  1.,  1.,  1.,  1.,  1.,  1.,  1.,  1.,\n",
       "          1.,  1.,  1.,  1.,  1.,  1.,  1.,  1.,  1.,  1.,  1.,  1.,\n",
       "          1.,  1.,  1.,  1.,  1.,  1.,  1.,  1.,  1.,  1.,  1.,  1.,\n",
       "          1.,  1.,  1.,  1.,  1.,  1.,  1.,  1.,  1.,  1.,  1.,  1.,\n",
       "          1.,  1.,  1.,  1.,  1.,  1.,  1.,  1.,  1.,  1.,  1.,  1.,\n",
       "          1.,  1.,  1.,  1.,  1.,  1.,  1.,  1.,  1.,  1.,  1.,  1.,\n",
       "          1.,  1.,  1.,  1.],\n",
       "        [ 1.,  1.,  1.,  1.,  1.,  1.,  1.,  1.,  1.,  1.,  1.,  1.,\n",
       "          1.,  1.,  1.,  1.,  1.,  1.,  1.,  1.,  1.,  1.,  1.,  1.,\n",
       "          1.,  1.,  1.,  1.,  1.,  1.,  1.,  1.,  1.,  1.,  1.,  1.,\n",
       "          1.,  1.,  1.,  1.,  1.,  1.,  1.,  1.,  1.,  1.,  1.,  1.,\n",
       "          1.,  1.,  1.,  1.,  1.,  1.,  1.,  1.,  1.,  1.,  1.,  1.,\n",
       "          1.,  1.,  1.,  1.,  1.,  1.,  1.,  1.,  1.,  1.,  1.,  1.,\n",
       "          1.,  1.,  1.,  1.,  1.,  1.,  1.,  1.,  1.,  1.,  1.,  1.,\n",
       "          1.,  1.,  1.,  1.,  1.,  1.,  1.,  1.,  1.,  1.,  1.,  1.,\n",
       "          1.,  1.,  1.,  1.]])"
      ]
     },
     "execution_count": 60,
     "metadata": {},
     "output_type": "execute_result"
    }
   ],
   "source": [
    "n_data = torch.ones(5,100)\n",
    "n_data"
   ]
  },
  {
   "cell_type": "code",
   "execution_count": 61,
   "metadata": {},
   "outputs": [
    {
     "name": "stdout",
     "output_type": "stream",
     "text": [
      "torch.Size([5, 100])\n",
      "torch.Size([5, 1024])\n",
      "torch.Size([5, 64, 16])\n",
      "torch.Size([5, 32, 83])\n"
     ]
    }
   ],
   "source": [
    "wavegan_g = WaveGAN_Generator()\n",
    "output = wavegan_g.forward(n_data)"
   ]
  },
  {
   "cell_type": "code",
   "execution_count": 68,
   "metadata": {
    "collapsed": true
   },
   "outputs": [],
   "source": [
    "def conv(c_in, c_out, k_size, stride=4, pad=1,bn=True):\n",
    "    \"\"\"Custom convolutional 1d lyaer for simplicity.\"\"\"\n",
    "    layers = []\n",
    "    layers.append(nn.Conv2d(c_in, c_out, k_size,stride,pad))\n",
    "    if bn:\n",
    "        layers.append(nn.BatchNorm2d(c_out))\n",
    "    return nn.Sequential(*layers)\n",
    "\n",
    "\n",
    "def conv1d(c_in, c_out, k_size, stride=4, pad=1,bn=True):\n",
    "    \"\"\"Custom convolutional 1d lyaer for simplicity.\"\"\"\n",
    "    layers = []\n",
    "    layers.append(nn.Conv1d(c_in, c_out, k_size,stride,pad))\n",
    "    if bn:\n",
    "        layers.append(nn.BatchNorm1d(c_out))\n",
    "    return nn.Sequential(*layers)\n",
    "\n",
    "\n",
    "#Ref DCGAN : https://github.com/InsuJeon/Hello-Generative-Model/blob/master/Day04/DCGAN/dcgan.ipynb\n",
    "class WaveGAN_Discriminator(nn.Module):\n",
    "    \"\"\"Discriminator containing 4 convolutional layers.\"\"\"\n",
    "    def __init__(self, image_size=128, conv_dim=d_conv_dim):\n",
    "        super(WaveGAN_Discriminator, self).__init__()\n",
    "        self.conv1 = conv1d(1, conv_dim, 25, bn=False)\n",
    "        self.conv2 = conv1d(conv_dim, conv_dim*2, 25)\n",
    "        self.conv3 = conv1d(conv_dim*2, conv_dim*4, 25)\n",
    "        self.conv4 = conv1d(conv_dim*4, conv_dim*8, 25)\n",
    "        self.conv5 = conv1d(conv_dim*8, conv_dim*16, 25)\n",
    "        self.fc = nn.Linear(conv_dim*16*16,1)\n",
    "#            conv(conv_dim*8, 1, int(image_size/16), 1, 0, False)\n",
    "        \n",
    "    def forward(self, x):                         # If image_size is 64, output shape is as below.\n",
    "        out = F.leaky_relu(self.conv1(x), 0.2)    # (?, 64, 32, 32)\n",
    "        out = F.leaky_relu(self.conv2(out), 0.2)  # (?, 128, 16, 16)\n",
    "        out = F.leaky_relu(self.conv3(out), 0.2)  # (?, 256, 8, 8)\n",
    "        out = F.leaky_relu(self.conv4(out), 0.2)  # (?, 512, 4, 4)\n",
    "        out = F.leaky_relu(self.conv5(out), 0.2)  # (?, 512, 4, 4)\n",
    "        out = out.view(out.size(0), 256 * d_conv_dim)\n",
    "        out = F.sigmoid(self.fc(out)).squeeze()\n",
    "#         out = self.fc(out).squeeze() # Least Square\n",
    "        return out"
   ]
  },
  {
   "cell_type": "code",
   "execution_count": 69,
   "metadata": {
    "collapsed": true
   },
   "outputs": [],
   "source": [
    "wavegan_d = WaveGAN_Discriminator()"
   ]
  },
  {
   "cell_type": "code",
   "execution_count": 70,
   "metadata": {},
   "outputs": [
    {
     "data": {
      "text/plain": [
       "tensor([ 0.3710,  0.3710,  0.3710,  0.3710,  0.3710])"
      ]
     },
     "execution_count": 70,
     "metadata": {},
     "output_type": "execute_result"
    }
   ],
   "source": [
    "wavegan_d.forward(output)"
   ]
  },
  {
   "cell_type": "code",
   "execution_count": null,
   "metadata": {
    "collapsed": true
   },
   "outputs": [],
   "source": [
    "criterion_vanillia = nn.BCELoss()\n",
    "\n",
    "d_optimizer = torch.optim.Adam(D.parameters(), lr=lr, betas=(0.5,0.9))\n",
    "g_optimizer = torch.optim.Adam(G.parameters(), lr=lr, betas=(0.5,0.9))\n"
   ]
  }
 ],
 "metadata": {
  "kernelspec": {
   "display_name": "Python 3",
   "language": "python",
   "name": "python3"
  },
  "language_info": {
   "codemirror_mode": {
    "name": "ipython",
    "version": 3
   },
   "file_extension": ".py",
   "mimetype": "text/x-python",
   "name": "python",
   "nbconvert_exporter": "python",
   "pygments_lexer": "ipython3",
   "version": "3.6.1"
  }
 },
 "nbformat": 4,
 "nbformat_minor": 2
}
