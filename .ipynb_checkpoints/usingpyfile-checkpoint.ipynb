{
 "cells": [
  {
   "cell_type": "code",
   "execution_count": 16,
   "metadata": {},
   "outputs": [
    {
     "name": "stderr",
     "output_type": "stream",
     "text": [
      "usage: main.py [-h] [--gan_type GAN_TYPE]\n",
      "               [--dataset {mnist,fashion-mnist,cifar10,cifar100,svhn,stl10,lsun-bed}]\n",
      "               [--split SPLIT] [--epoch EPOCH] [--batch_size BATCH_SIZE]\n",
      "               [--input_size INPUT_SIZE] [--save_dir SAVE_DIR]\n",
      "               [--result_dir RESULT_DIR] [--log_dir LOG_DIR] [--lrG LRG]\n",
      "               [--lrD LRD] [--beta1 BETA1] [--beta2 BETA2]\n",
      "               [--gpu_mode GPU_MODE] [--benchmark_mode BENCHMARK_MODE]\n",
      "               [--inPathDataset INPATHDATASET]\n",
      "main.py: error: unrecognized arguments: data_split,\n"
     ]
    }
   ],
   "source": [
    "!python main.py --gan_type=\"WaveGAN\", --data_dir = \"data_split\", --epoch=10 --batch_size=3 --input_size=16384 --gpu_mode=False"
   ]
  },
  {
   "cell_type": "code",
   "execution_count": null,
   "metadata": {
    "collapsed": true
   },
   "outputs": [],
   "source": []
  }
 ],
 "metadata": {
  "kernelspec": {
   "display_name": "Python 3",
   "language": "python",
   "name": "python3"
  },
  "language_info": {
   "codemirror_mode": {
    "name": "ipython",
    "version": 3
   },
   "file_extension": ".py",
   "mimetype": "text/x-python",
   "name": "python",
   "nbconvert_exporter": "python",
   "pygments_lexer": "ipython3",
   "version": "3.6.1"
  }
 },
 "nbformat": 4,
 "nbformat_minor": 2
}
