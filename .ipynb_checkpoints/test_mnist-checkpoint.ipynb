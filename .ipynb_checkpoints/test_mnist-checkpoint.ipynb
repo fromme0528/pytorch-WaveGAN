{
 "cells": [
  {
   "cell_type": "code",
   "execution_count": 15,
   "metadata": {},
   "outputs": [
    {
     "name": "stderr",
     "output_type": "stream",
     "text": [
      "'chmodchmod'은(는) 내부 또는 외부 명령, 실행할 수 있는 프로그램, 또는\n",
      "배치 파일이 아닙니다.\n",
      "'.'은(는) 내부 또는 외부 명령, 실행할 수 있는 프로그램, 또는\n",
      "배치 파일이 아닙니다.\n",
      "unzip:  cannot find or open CelebA_128crop_FD.zip?dl=0, CelebA_128crop_FD.zip?dl=0.zip or CelebA_128crop_FD.zip?dl=0.ZIP.\n",
      "\n",
      "No zipfiles found.\n"
     ]
    }
   ],
   "source": [
    "!chmodchmod  ++xx  downloaddownloa .sh\n",
    "!./download.sh\n",
    "!unzip -q CelebA_128crop_FD.zip?dl=0 -d ./data/"
   ]
  },
  {
   "cell_type": "code",
   "execution_count": 2,
   "metadata": {
    "collapsed": true
   },
   "outputs": [],
   "source": [
    "import torch, os\n",
    "import torchvision\n",
    "import torch.nn as nn\n",
    "import torch.nn.functional as F\n",
    "from torchvision import datasets\n",
    "from torchvision import transforms\n",
    "from torchvision.datasets import ImageFolder\n",
    "from torchvision.utils import save_image\n",
    "from torchvision.utils import make_grid\n",
    "from torch.autograd import Variable\n",
    "from torch.utils.data import DataLoader\n",
    "import matplotlib.pyplot as plt"
   ]
  },
  {
   "cell_type": "code",
   "execution_count": 4,
   "metadata": {
    "collapsed": true
   },
   "outputs": [],
   "source": [
    "lr = 0.0002\n",
    "max_epoch = 20\n",
    "batch_size = 32\n",
    "z_dim = 100\n",
    "image_size = 64\n",
    "g_conv_dim = 64\n",
    "d_conv_dim = 64\n",
    "log_step = 100\n",
    "sample_step = 500\n",
    "sample_num = 32\n",
    "image_path = './data/CelebA/'\n",
    "sample_path = './output/' \n",
    "if not os.path.exists(sample_path) : os.makedirs(sample_path)"
   ]
  },
  {
   "cell_type": "code",
   "execution_count": 13,
   "metadata": {},
   "outputs": [
    {
     "ename": "AttributeError",
     "evalue": "module 'torchvision.transforms' has no attribute 'Resize'",
     "output_type": "error",
     "traceback": [
      "\u001b[1;31m---------------------------------------------------------------------------\u001b[0m",
      "\u001b[1;31mAttributeError\u001b[0m                            Traceback (most recent call last)",
      "\u001b[1;32m<ipython-input-13-50fb9e1ae906>\u001b[0m in \u001b[0;36m<module>\u001b[1;34m()\u001b[0m\n\u001b[0;32m      1\u001b[0m transform = transforms.Compose([\n\u001b[1;32m----> 2\u001b[1;33m                 \u001b[0mtransforms\u001b[0m\u001b[1;33m.\u001b[0m\u001b[0mResize\u001b[0m\u001b[1;33m(\u001b[0m\u001b[0mimage_size\u001b[0m\u001b[1;33m)\u001b[0m\u001b[1;33m,\u001b[0m\u001b[1;33m\u001b[0m\u001b[0m\n\u001b[0m\u001b[0;32m      3\u001b[0m                 \u001b[0mtransforms\u001b[0m\u001b[1;33m.\u001b[0m\u001b[0mToTensor\u001b[0m\u001b[1;33m(\u001b[0m\u001b[1;33m)\u001b[0m\u001b[1;33m,\u001b[0m\u001b[1;33m\u001b[0m\u001b[0m\n\u001b[0;32m      4\u001b[0m                 transforms.Normalize((0.5, 0.5, 0.5), (0.5, 0.5, 0.5))])\n\u001b[0;32m      5\u001b[0m \u001b[1;33m\u001b[0m\u001b[0m\n",
      "\u001b[1;31mAttributeError\u001b[0m: module 'torchvision.transforms' has no attribute 'Resize'"
     ]
    }
   ],
   "source": [
    "transform = transforms.Compose([\n",
    "                transforms.Resize(image_size),\n",
    "                transforms.ToTensor(),\n",
    "                transforms.Normalize((0.5, 0.5, 0.5), (0.5, 0.5, 0.5))])\n",
    "\n",
    "dataset = ImageFolder(image_path, transform)\n",
    "data_loader = DataLoader(dataset=dataset,\n",
    "                          batch_size=batch_size,\n",
    "                          shuffle=True,\n",
    "                          num_workers=8,\n",
    "                          drop_last=True)"
   ]
  },
  {
   "cell_type": "code",
   "execution_count": 8,
   "metadata": {},
   "outputs": [
    {
     "data": {
      "text/plain": [
       "Discriminator(\n",
       "  (conv1): Sequential(\n",
       "    (0): Conv1d(1, 64, kernel_size=(25,), stride=(4,), padding=(1,))\n",
       "  )\n",
       "  (conv2): Sequential(\n",
       "    (0): Conv1d(64, 128, kernel_size=(25,), stride=(4,), padding=(1,))\n",
       "    (1): BatchNorm2d(128, eps=1e-05, momentum=0.1, affine=True, track_running_stats=True)\n",
       "  )\n",
       "  (conv3): Sequential(\n",
       "    (0): Conv1d(128, 256, kernel_size=(25,), stride=(4,), padding=(1,))\n",
       "    (1): BatchNorm2d(256, eps=1e-05, momentum=0.1, affine=True, track_running_stats=True)\n",
       "  )\n",
       "  (conv4): Sequential(\n",
       "    (0): Conv1d(256, 512, kernel_size=(25,), stride=(4,), padding=(1,))\n",
       "    (1): BatchNorm2d(512, eps=1e-05, momentum=0.1, affine=True, track_running_stats=True)\n",
       "  )\n",
       "  (conv5): Sequential(\n",
       "    (0): Conv1d(512, 1024, kernel_size=(25,), stride=(4,), padding=(1,))\n",
       "    (1): BatchNorm2d(1024, eps=1e-05, momentum=0.1, affine=True, track_running_stats=True)\n",
       "  )\n",
       "  (fc): Linear(in_features=16384, out_features=1, bias=True)\n",
       ")"
      ]
     },
     "execution_count": 8,
     "metadata": {},
     "output_type": "execute_result"
    }
   ],
   "source": [
    "def conv(c_in, c_out, k_size, stride=4, pad=1,bn=True):\n",
    "    \"\"\"Custom convolutional 1d lyaer for simplicity.\"\"\"\n",
    "    layers = []\n",
    "    layers.append(nn.Conv2d(c_in, c_out, k_size,stride,pad))\n",
    "    if bn:\n",
    "        layers.append(nn.BatchNorm2d(c_out))\n",
    "    return nn.Sequential(*layers)\n",
    "\n",
    "\n",
    "def conv1d(c_in, c_out, k_size, stride=4, pad=1,bn=True):\n",
    "    \"\"\"Custom convolutional 1d lyaer for simplicity.\"\"\"\n",
    "    layers = []\n",
    "    layers.append(nn.Conv1d(c_in, c_out, k_size,stride,pad))\n",
    "    if bn:\n",
    "        layers.append(nn.BatchNorm2d(c_out))\n",
    "    return nn.Sequential(*layers)\n",
    "\n",
    "\n",
    "#Ref DCGAN : https://github.com/InsuJeon/Hello-Generative-Model/blob/master/Day04/DCGAN/dcgan.ipynb\n",
    "class Discriminator(nn.Module):\n",
    "    \"\"\"Discriminator containing 4 convolutional layers.\"\"\"\n",
    "    def __init__(self, image_size=128, conv_dim=64):\n",
    "        super(Discriminator, self).__init__()\n",
    "        self.conv1 = conv1d(1, conv_dim, 25, bn=False)\n",
    "        self.conv2 = conv1d(conv_dim, conv_dim*2, 25)\n",
    "        self.conv3 = conv1d(conv_dim*2, conv_dim*4, 25)\n",
    "        self.conv4 = conv1d(conv_dim*4, conv_dim*8, 25)\n",
    "        self.conv5 = conv1d(conv_dim*8, conv_dim*16, 25)\n",
    "        self.fc = nn.Linear(conv_dim*16*16,1)\n",
    "#            conv(conv_dim*8, 1, int(image_size/16), 1, 0, False)\n",
    "        \n",
    "    def forward(self, x):                         # If image_size is 64, output shape is as below.\n",
    "        out = F.leaky_relu(self.conv1(x), 0.2)    # (?, 64, 32, 32)\n",
    "        out = F.leaky_relu(self.conv2(out), 0.2)  # (?, 128, 16, 16)\n",
    "        out = F.leaky_relu(self.conv3(out), 0.2)  # (?, 256, 8, 8)\n",
    "        out = F.leaky_relu(self.conv4(out), 0.2)  # (?, 512, 4, 4)\n",
    "        out = F.leaky_relu(self.conv5(out), 0.2)  # (?, 512, 4, 4)\n",
    "        out = F.sigmoid(self.fc(out)).squeeze()\n",
    "#         out = self.fc(out).squeeze() # Least Square\n",
    "        return out\n",
    "    \n",
    "D = Discriminator(image_size)\n",
    "D"
   ]
  },
  {
   "cell_type": "code",
   "execution_count": 9,
   "metadata": {},
   "outputs": [
    {
     "data": {
      "text/plain": [
       "Generator(\n",
       "  (fc): Linear(in_features=100, out_features=16384, bias=True)\n",
       "  (deconv1): Sequential(\n",
       "    (0): ConvTranspose1d(1024, 512, kernel_size=(25,), stride=(4,), padding=(1,))\n",
       "    (1): BatchNorm2d(512, eps=1e-05, momentum=0.1, affine=True, track_running_stats=True)\n",
       "  )\n",
       "  (deconv2): Sequential(\n",
       "    (0): ConvTranspose1d(512, 256, kernel_size=(25,), stride=(4,), padding=(1,))\n",
       "    (1): BatchNorm2d(256, eps=1e-05, momentum=0.1, affine=True, track_running_stats=True)\n",
       "  )\n",
       "  (deconv3): Sequential(\n",
       "    (0): ConvTranspose1d(256, 128, kernel_size=(25,), stride=(4,), padding=(1,))\n",
       "    (1): BatchNorm2d(128, eps=1e-05, momentum=0.1, affine=True, track_running_stats=True)\n",
       "  )\n",
       "  (deconv4): Sequential(\n",
       "    (0): ConvTranspose1d(128, 64, kernel_size=(25,), stride=(4,), padding=(1,))\n",
       "    (1): BatchNorm2d(64, eps=1e-05, momentum=0.1, affine=True, track_running_stats=True)\n",
       "  )\n",
       "  (deconv5): Sequential(\n",
       "    (0): ConvTranspose1d(64, 1, kernel_size=(25,), stride=(4,), padding=(1,))\n",
       "  )\n",
       ")"
      ]
     },
     "execution_count": 9,
     "metadata": {},
     "output_type": "execute_result"
    }
   ],
   "source": [
    "def deconv(c_in, c_out, k_size, stride=2, pad=1, bn=True):\n",
    "    \"\"\"Custom deconvolutional layer for simplicity.\"\"\"\n",
    "    layers = []\n",
    "    layers.append(nn.ConvTranspose2d(c_in, c_out, k_size, stride, pad))\n",
    "    if bn:\n",
    "        layers.append(nn.BatchNorm2d(c_out))\n",
    "    return nn.Sequential(*layers)\n",
    "\n",
    "def deconv1d(c_in, c_out, k_size, stride=4, pad=1,bn=True):\n",
    "    \"\"\"Custom convolutional 1d lyaer for simplicity.\"\"\"\n",
    "    layers = []\n",
    "    layers.append(nn.ConvTranspose1d(c_in, c_out, k_size,stride,pad))\n",
    "    if bn:\n",
    "        layers.append(nn.BatchNorm2d(c_out))\n",
    "    return nn.Sequential(*layers)\n",
    "\n",
    "\n",
    "class Generator(nn.Module):\n",
    "    \"\"\"Generator containing 7 deconvolutional layers.\"\"\"\n",
    "    def __init__(self, z_dim=256, image_size=128, conv_dim=64):\n",
    "        super(Generator, self).__init__()\n",
    "        self.fc = nn.Linear(z_dim, 256*conv_dim)\n",
    "        #self.fc = deconv(z_dim, conv_dim*8, int(image_size/16), 1, 0, bn=False)\n",
    "        self.deconv1 = deconv1d(conv_dim*16, conv_dim*8, 25)\n",
    "        self.deconv2 = deconv1d(conv_dim*8, conv_dim*4, 25)\n",
    "        self.deconv3 = deconv1d(conv_dim*4, conv_dim*2, 25)\n",
    "        self.deconv4 = deconv1d(conv_dim*2, conv_dim, 25)\n",
    "        self.deconv5 = deconv1d(conv_dim, 1, 25, bn=False)\n",
    "        \n",
    "    def forward(self, z):\n",
    "        z = z.view(z.size(0), z.size(1), 1, 1)      # If image_size is 64, output shape is as below.\n",
    "        out = self.fc(z)                            # (?, 512, 4, 4)\n",
    "        out = F.relu(self.deconv1(out))  # (?, 256, 8, 8)\n",
    "        out = F.relu(self.deconv2(out))  # (?, 128, 16, 16)\n",
    "        out = F.relu(self.deconv3(out))  # (?, 64, 32, 32)\n",
    "        out = F.relu(self.deconv4(out))  # (?, 64, 32, 32)\n",
    "        out = F.tanh(self.deconv5(out))  # (?, 3, 64, 64)\n",
    "        return out\n",
    "    \n",
    "G = Generator(z_dim,image_size,g_conv_dim)\n",
    "G"
   ]
  },
  {
   "cell_type": "code",
   "execution_count": 10,
   "metadata": {
    "collapsed": true
   },
   "outputs": [],
   "source": [
    "# Binary cross entropy loss and optimizer\n",
    "criterion = nn.BCELoss().cuda()\n",
    "d_optimizer = torch.optim.Adam(D.parameters(), lr=lr, betas=(0.5,0.999))\n",
    "g_optimizer = torch.optim.Adam(G.parameters(), lr=lr, betas=(0.5,0.999))"
   ]
  },
  {
   "cell_type": "code",
   "execution_count": 11,
   "metadata": {
    "collapsed": true
   },
   "outputs": [],
   "source": [
    "# denormalization : [-1,1] -> [0,1]\n",
    "# normalization : [0,1] -> [-1,1]\n",
    "def denorm(x):\n",
    "    out = (x + 1) / 2\n",
    "    return out.clamp(0, 1)"
   ]
  },
  {
   "cell_type": "code",
   "execution_count": 12,
   "metadata": {},
   "outputs": [
    {
     "name": "stdout",
     "output_type": "stream",
     "text": [
      "\n",
      "--------model not restored--------\n",
      "\n"
     ]
    }
   ],
   "source": [
    "# model restore if any\n",
    "try:\n",
    "    G.load_state_dict(torch.load('./generator.pkl'))\n",
    "    D.load_state_dict(torch.load('./discriminator.pkl'))\n",
    "    print(\"\\n--------model restored--------\\n\")\n",
    "except:\n",
    "    print(\"\\n--------model not restored--------\\n\")\n",
    "    pass"
   ]
  },
  {
   "cell_type": "code",
   "execution_count": null,
   "metadata": {
    "collapsed": true
   },
   "outputs": [],
   "source": [
    "# Start training\n",
    "total_batch = len(data_loader.dataset)//batch_size\n",
    "fixed_z = Variable(torch.randn(sample_num, z_dim)).cuda()\n",
    "for epoch in range(max_epoch):\n",
    "    for i, (images, _) in enumerate(data_loader):\n",
    "        # Build mini-batch dataset\n",
    "        images = Variable(images).cuda()\n",
    "        # Create the labels which are later used as input for the BCE loss\n",
    "        real_labels = Variable(torch.ones(batch_size)).cuda()\n",
    "        fake_labels = Variable(torch.zeros(batch_size)).cuda()\n",
    "\n",
    "        #============= Train the discriminator =============#\n",
    "        # Compute BCE_Loss using real images where BCE_Loss(x, y): - y * log(D(x)) - (1-y) * log(1 - D(x))\n",
    "        # Second term of the loss is always zero since real_labels == 1\n",
    "        outputs = D(images)\n",
    "        d_loss_real = criterion(outputs, real_labels) # BCE\n",
    "#         d_loss_real = torch.mean((outputs - 1) ** 2) # Least Square\n",
    "        \n",
    "        real_score = outputs\n",
    "\n",
    "        # Compute BCELoss using fake images\n",
    "        # First term of the loss is always zero since fake_labels == 0\n",
    "        z = Variable(torch.randn(batch_size, z_dim)).cuda()\n",
    "        fake_images = G(z)\n",
    "        outputs = D(fake_images)\n",
    "        d_loss_fake = criterion(outputs, fake_labels) # BCE\n",
    "#         d_loss_fake = torch.mean(outputs ** 2) # Least Square\n",
    "        fake_score = outputs\n",
    "\n",
    "        # Backprop + Optimize\n",
    "        d_loss = d_loss_real + d_loss_fake\n",
    "        D.zero_grad()\n",
    "        d_loss.backward()\n",
    "        d_optimizer.step()\n",
    "\n",
    "        #=============== Train the generator ===============#\n",
    "        # Compute loss with fake images\n",
    "        z = Variable(torch.randn(batch_size, z_dim)).cuda()\n",
    "        fake_images = G(z)\n",
    "        outputs = D(fake_images)\n",
    "\n",
    "        # We train G to maximize log(D(G(z)) instead of minimizing log(1-D(G(z)))\n",
    "        # For the reason, see the last paragraph of section 3. https://arxiv.org/pdf/1406.2661.pdf\n",
    "        g_loss = criterion(outputs, real_labels) # BCE\n",
    "#        g_loss = torch.mean((outputs - 1) ** 2) # Least Square\n",
    "\n",
    "        # Backprop + Optimize\n",
    "        D.zero_grad()\n",
    "        G.zero_grad()\n",
    "        g_loss.backward()\n",
    "        g_optimizer.step()\n",
    "\n",
    "        if (i+1) % log_step == 0:\n",
    "            print('Epoch [%d/%d], Step[%d/%d], d_loss: %.4f, '\n",
    "                  'g_loss: %.4f, D(x): %.2f, D(G(z)): %.2f'\n",
    "                  %(epoch, max_epoch, i+1, total_batch, d_loss.data[0], g_loss.data[0],\n",
    "                    real_score.data.mean(), fake_score.data.mean()))\n",
    "            \n",
    "        if (i+1) % sample_step == 0:\n",
    "            fake_images = G(fixed_z)\n",
    "            torchvision.utils.save_image(denorm(fake_images.data), \n",
    "                                         os.path.join(sample_path,'fake_samples-%d-%d.png' %(epoch+1, i+1)),\n",
    "                                         nrow=8)\n",
    "\n",
    "# Save the trained parameters\n",
    "torch.save(G.state_dict(), './generator.pkl')\n",
    "torch.save(D.state_dict(), './discriminator.pkl')"
   ]
  }
 ],
 "metadata": {
  "kernelspec": {
   "display_name": "Python 3",
   "language": "python",
   "name": "python3"
  },
  "language_info": {
   "codemirror_mode": {
    "name": "ipython",
    "version": 3
   },
   "file_extension": ".py",
   "mimetype": "text/x-python",
   "name": "python",
   "nbconvert_exporter": "python",
   "pygments_lexer": "ipython3",
   "version": "3.6.1"
  }
 },
 "nbformat": 4,
 "nbformat_minor": 2
}
