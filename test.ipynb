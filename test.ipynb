{
 "cells": [
  {
   "cell_type": "markdown",
   "metadata": {},
   "source": [
    "# Import Libraries"
   ]
  },
  {
   "cell_type": "code",
   "execution_count": 53,
   "metadata": {},
   "outputs": [
    {
     "name": "stdout",
     "output_type": "stream",
     "text": [
      "3.6.1 |Anaconda custom (64-bit)| (default, May 11 2017, 13:25:24) [MSC v.1900 64 bit (AMD64)]\n",
      "pytorch :  0.4.0\n",
      "librosa :  0.5.1\n",
      "numpy :  1.12.1\n",
      "scipy :  1.0.1\n",
      "matplotlib :  2.0.2\n"
     ]
    }
   ],
   "source": [
    "import torch, os\n",
    "import torchvision\n",
    "import torch.nn as nn\n",
    "import torch.nn.functional as F\n",
    "from torchvision import datasets\n",
    "from torchvision import transforms\n",
    "from torchvision.datasets import ImageFolder\n",
    "from torchvision.utils import save_image\n",
    "from torchvision.utils import make_grid\n",
    "from torch.autograd import Variable\n",
    "from torch.utils.data import DataLoader\n",
    "import matplotlib.pyplot as plt\n",
    "\n",
    "import sys\n",
    "from os import listdir\n",
    "from os.path import isfile, join\n",
    "import numpy as np\n",
    "import scipy as sp\n",
    "import matplotlib as mpl\n",
    "import matplotlib.pyplot as plt\n",
    "from PIL import Image\n",
    "import librosa\n",
    "import librosa.display\n",
    "import IPython.display as ipd\n",
    "\n",
    "import random\n",
    "\n",
    "%matplotlib inline\n",
    "\n",
    "print(sys.version)\n",
    "print('pytorch : ', torch.__version__)\n",
    "print('librosa : ', librosa.__version__)\n",
    "print('numpy : ', np.__version__)\n",
    "print('scipy : ', sp.__version__)\n",
    "print('matplotlib : ', mpl.__version__)"
   ]
  },
  {
   "cell_type": "markdown",
   "metadata": {},
   "source": [
    "# Hparams Setting"
   ]
  },
  {
   "cell_type": "code",
   "execution_count": 10,
   "metadata": {
    "collapsed": true
   },
   "outputs": [],
   "source": [
    "lr = 0.0001\n",
    "max_epoch = 20\n",
    "batch_size = 64\n",
    "z_dim = 100\n",
    "image_size = 64\n",
    "g_conv_dim = 64\n",
    "d_conv_dim = 64\n",
    "log_step = 100\n",
    "sample_step = 500\n",
    "sample_num = 32"
   ]
  },
  {
   "cell_type": "markdown",
   "metadata": {},
   "source": [
    "# Generator"
   ]
  },
  {
   "cell_type": "code",
   "execution_count": 11,
   "metadata": {},
   "outputs": [
    {
     "data": {
      "text/plain": [
       "WaveGAN_Generator(\n",
       "  (fc): Linear(in_features=100, out_features=16384, bias=True)\n",
       "  (deconv1): Sequential(\n",
       "    (0): ConvTranspose1d(1024, 512, kernel_size=(25,), stride=(4,), padding=(11,), output_padding=(1,))\n",
       "    (1): BatchNorm1d(512, eps=1e-05, momentum=0.1, affine=True, track_running_stats=True)\n",
       "  )\n",
       "  (deconv2): Sequential(\n",
       "    (0): ConvTranspose1d(512, 256, kernel_size=(25,), stride=(4,), padding=(11,), output_padding=(1,))\n",
       "    (1): BatchNorm1d(256, eps=1e-05, momentum=0.1, affine=True, track_running_stats=True)\n",
       "  )\n",
       "  (deconv3): Sequential(\n",
       "    (0): ConvTranspose1d(256, 128, kernel_size=(25,), stride=(4,), padding=(11,), output_padding=(1,))\n",
       "    (1): BatchNorm1d(128, eps=1e-05, momentum=0.1, affine=True, track_running_stats=True)\n",
       "  )\n",
       "  (deconv4): Sequential(\n",
       "    (0): ConvTranspose1d(128, 64, kernel_size=(25,), stride=(4,), padding=(11,), output_padding=(1,))\n",
       "    (1): BatchNorm1d(64, eps=1e-05, momentum=0.1, affine=True, track_running_stats=True)\n",
       "  )\n",
       "  (deconv5): Sequential(\n",
       "    (0): ConvTranspose1d(64, 1, kernel_size=(25,), stride=(4,), padding=(11,), output_padding=(1,))\n",
       "  )\n",
       ")"
      ]
     },
     "execution_count": 11,
     "metadata": {},
     "output_type": "execute_result"
    }
   ],
   "source": [
    "# Conv2d (Batch_num , Channel, length) \n",
    "def deconv(c_in, c_out, k_size, stride=2, pad=1, bn=True):\n",
    "    \"\"\"Custom deconvolutional layer for simplicity.\"\"\"\n",
    "    layers = []\n",
    "    layers.append(nn.ConvTranspose2d(c_in, c_out, k_size, stride, pad))\n",
    "    if bn:\n",
    "        layers.append(nn.BatchNorm2d(c_out))\n",
    "    return nn.Sequential(*layers)\n",
    "\n",
    "#deconv1d\n",
    "def deconv1d(c_in, c_out, k_size, stride=4, pad=11, out_pad = 1,bn=True):\n",
    "    \"\"\"Custom convolutional 1d lyaer for simplicity.\"\"\"\n",
    "    layers = []\n",
    "    layers.append(nn.ConvTranspose1d(c_in, c_out, k_size, stride, pad,out_pad))\n",
    "    if bn:\n",
    "        layers.append(nn.BatchNorm1d(c_out))\n",
    "    return nn.Sequential(*layers)\n",
    "\n",
    "class WaveGAN_Generator(nn.Module):\n",
    "    \"\"\"Generator containing 7 deconvolutional layers.\"\"\"\n",
    "    def __init__(self, z_dim=100, image_size=128, conv_dim=g_conv_dim):\n",
    "        super(WaveGAN_Generator, self).__init__()\n",
    "        self.fc = nn.Linear(z_dim, 256*conv_dim)\n",
    "#        self.deconv1 = deconv1d(conv_dim*16, conv_dim*8, (25,2,2), pad = 11)\n",
    "        self.deconv1 = deconv1d(conv_dim*16, conv_dim*8, k_size = 25, pad = 11, out_pad = 1)\n",
    "        self.deconv2 = deconv1d(conv_dim*8, conv_dim*4, 25)\n",
    "        self.deconv3 = deconv1d(conv_dim*4, conv_dim*2, 25)\n",
    "        self.deconv4 = deconv1d(conv_dim*2, conv_dim, 25)\n",
    "        self.deconv5 = deconv1d(conv_dim, 1, 25, bn=False)\n",
    "        \n",
    "    def forward(self, z):\n",
    "#        z = z.view(z.size(0), z.size(1))      # If image_size is 64, output shape is as below.\n",
    "        out = self.fc(z)                 # (?, 256d)\n",
    "        print(out.size())\n",
    "        out = out.view(out.size(0),16*g_conv_dim,16 ) # (?,16,16d)\n",
    "        print(out.size())\n",
    "        out = F.relu(out)\n",
    "        out = F.relu(self.deconv1(out))  # (?, 64, 8d)\n",
    "        print(\"a\")\n",
    "        print(out.size())\n",
    "        \n",
    "        out = F.relu(self.deconv2(out))  # (?, 256, 4d)\n",
    "        \n",
    "        print(out.size())\n",
    "        out = F.relu(self.deconv3(out))  # (?, 1024, 2d)\n",
    "        print(out.size())\n",
    "        out = F.relu(self.deconv4(out))  # (?, 4096, d)\n",
    "        print(out.size())\n",
    "        out = F.tanh(self.deconv5(out))  # (?, 16384, c)\n",
    "        print(out.size())\n",
    "        return out\n",
    "    \n",
    "G = WaveGAN_Generator(z_dim,image_size,g_conv_dim)\n",
    "G"
   ]
  },
  {
   "cell_type": "code",
   "execution_count": 12,
   "metadata": {
    "collapsed": true
   },
   "outputs": [],
   "source": [
    "n_data = torch.ones(5,100)\n",
    "#n_data"
   ]
  },
  {
   "cell_type": "code",
   "execution_count": 13,
   "metadata": {},
   "outputs": [
    {
     "name": "stdout",
     "output_type": "stream",
     "text": [
      "torch.Size([5, 16384])\n",
      "torch.Size([5, 1024, 16])\n",
      "a\n",
      "torch.Size([5, 512, 64])\n",
      "torch.Size([5, 256, 256])\n",
      "torch.Size([5, 128, 1024])\n",
      "torch.Size([5, 64, 4096])\n",
      "torch.Size([5, 1, 16384])\n"
     ]
    },
    {
     "data": {
      "text/plain": [
       "torch.Size([5, 1, 16384])"
      ]
     },
     "execution_count": 13,
     "metadata": {},
     "output_type": "execute_result"
    }
   ],
   "source": [
    "wavegan_g = WaveGAN_Generator()\n",
    "\n",
    "output = wavegan_g.forward(n_data)\n",
    "output.size()"
   ]
  },
  {
   "cell_type": "markdown",
   "metadata": {},
   "source": [
    "# Discriminator"
   ]
  },
  {
   "cell_type": "code",
   "execution_count": 188,
   "metadata": {},
   "outputs": [],
   "source": [
    "def conv(c_in, c_out, k_size, stride=4, pad=1,bn=True):\n",
    "    \"\"\"Custom convolutional 1d lyaer for simplicity.\"\"\"\n",
    "    layers = []\n",
    "    layers.append(nn.Conv2d(c_in, c_out, k_size,stride,pad))\n",
    "    if bn:\n",
    "        layers.append(nn.BatchNorm2d(c_out))\n",
    "    return nn.Sequential(*layers)\n",
    "\n",
    "\n",
    "def conv1d(c_in, c_out, k_size, stride=4, pad=11, out_pad = 1,bn=True):\n",
    "    \"\"\"Custom convolutional 1d lyaer for simplicity.\"\"\"\n",
    "    layers = []\n",
    "    layers.append(nn.Conv1d(c_in, c_out, k_size,stride,pad))\n",
    "    if bn:\n",
    "        layers.append(nn.BatchNorm1d(c_out))\n",
    "    return nn.Sequential(*layers)\n",
    "\n",
    "def apply_phaseshuffle(x, n_phase, pad_type = 'refelct'):\n",
    "    (batch, n_channel, x_len) = x.shape\n",
    "    r = random.randrange(-n_phase, n_phase+1)\n",
    "    pad_l = np.maximum( r , 0)\n",
    "    pad_r = np.maximum(-r, 0)\n",
    "    phase_start = pad_r\n",
    "    \n",
    "    padding = nn.ReflectionPad2d((pad_l, pad_r, 0, 0))\n",
    "#    print(\"phase : \", r)\n",
    "    #print(\"pad_l, pad_r, phase_start, x_len\", pad_l, pad_r, phase_start, x_len)\n",
    "    #print(\"x.shape\", x.shape)\n",
    "    \n",
    "    for x_ in x:\n",
    "\n",
    "        ch_, len_ = x_.shape\n",
    "        x_ = x_.reshape(1,1,ch_,len_)\n",
    "        x_ = padding(x_)\n",
    "        x_ = x_[:, :, :,phase_start:phase_start + len_]\n",
    "        x_ = x_.reshape(ch_,len_)\n",
    "    \n",
    "    return x\n",
    "    \n",
    "\n",
    "#Ref DCGAN : https://github.com/InsuJeon/Hello-Generative-Model/blob/master/Day04/DCGAN/dcgan.ipynb\n",
    "class WaveGAN_Discriminator(nn.Module):\n",
    "    \"\"\"Discriminator containing 4 convolutional layers.\"\"\"\n",
    "    \n",
    "\n",
    "    def __init__(self, image_size=128, conv_dim=d_conv_dim, n_phase = 2):\n",
    "        \n",
    "        if n_phase > 0:\n",
    "            self.phaseshuffle = lambda x: apply_phaseshuffle(x,n_phase)\n",
    "        else:\n",
    "            self.phaseshuffle = lambda x: x\n",
    "        \n",
    "        super(WaveGAN_Discriminator, self).__init__()\n",
    "        self.conv1 = conv1d(1, conv_dim, 25, bn=False)\n",
    "        self.conv2 = conv1d(conv_dim, conv_dim*2, 25)\n",
    "        self.conv3 = conv1d(conv_dim*2, conv_dim*4, 25)\n",
    "        self.conv4 = conv1d(conv_dim*4, conv_dim*8, 25)\n",
    "        self.conv5 = conv1d(conv_dim*8, conv_dim*16, 25)\n",
    "        self.fc = nn.Linear(conv_dim*16*16,1)\n",
    "        \n",
    "#            conv(conv_dim*8, 1, int(image_size/16), 1, 0, False)\n",
    "        \n",
    "    def forward(self, x):\n",
    "        # (?, 1, 16384) -> (?, 64, 4096)\n",
    "        out = F.leaky_relu(self.conv1(x), 0.2)    # (?, 64, 32, 32)\n",
    "        out = self.phaseshuffle(out)\n",
    "        \n",
    "        # (?, 64, 4096) -> (?, 128, 1024)\n",
    "        out = F.leaky_relu(self.conv2(out), 0.2)  # (?, 128, 16, 16)\n",
    "        out = self.phaseshuffle(out)\n",
    "\n",
    "        # (?, 128, 1024) -> (?, 256, 256)\n",
    "        out = F.leaky_relu(self.conv3(out), 0.2)  # (?, 256, 8, 8)\n",
    "        out = self.phaseshuffle(out)\n",
    "\n",
    "        # (?, 256, 256) -> (?, 512, 64)\n",
    "        out = F.leaky_relu(self.conv4(out), 0.2)  # (?, 512, 4, 4)\n",
    "        out = self.phaseshuffle(out)\n",
    "\n",
    "        # (?, 512, 64) -> (?, 1024, 16)\n",
    "        out = F.leaky_relu(self.conv5(out), 0.2)  # (?, 512, 4, 4)\n",
    "        out = self.phaseshuffle(out)\n",
    "\n",
    "        # (?, 1024, 16) -> (?, 16384)\n",
    "        # (?,16384) -> (?,1)\n",
    "        out = out.view(out.size(0), 256 * d_conv_dim)\n",
    "        out = F.sigmoid(self.fc(out))\n",
    "        out = out.squeeze()\n",
    "        \n",
    "        return out"
   ]
  },
  {
   "cell_type": "code",
   "execution_count": 189,
   "metadata": {},
   "outputs": [],
   "source": [
    "wavegan_d = WaveGAN_Discriminator(n_phase = 2)"
   ]
  },
  {
   "cell_type": "code",
   "execution_count": 190,
   "metadata": {
    "scrolled": false
   },
   "outputs": [
    {
     "data": {
      "text/plain": [
       "tensor([ 0.4458,  0.4458,  0.4458,  0.4458,  0.4458])"
      ]
     },
     "execution_count": 190,
     "metadata": {},
     "output_type": "execute_result"
    }
   ],
   "source": [
    "wavegan_d.forward(output)"
   ]
  },
  {
   "cell_type": "code",
   "execution_count": 191,
   "metadata": {},
   "outputs": [
    {
     "ename": "NameError",
     "evalue": "name 'D' is not defined",
     "output_type": "error",
     "traceback": [
      "\u001b[1;31m---------------------------------------------------------------------------\u001b[0m",
      "\u001b[1;31mNameError\u001b[0m                                 Traceback (most recent call last)",
      "\u001b[1;32m<ipython-input-191-c66852ad3e2a>\u001b[0m in \u001b[0;36m<module>\u001b[1;34m()\u001b[0m\n\u001b[0;32m      1\u001b[0m \u001b[0mcriterion_vanillia\u001b[0m \u001b[1;33m=\u001b[0m \u001b[0mnn\u001b[0m\u001b[1;33m.\u001b[0m\u001b[0mBCELoss\u001b[0m\u001b[1;33m(\u001b[0m\u001b[1;33m)\u001b[0m\u001b[1;33m\u001b[0m\u001b[0m\n\u001b[0;32m      2\u001b[0m \u001b[1;33m\u001b[0m\u001b[0m\n\u001b[1;32m----> 3\u001b[1;33m \u001b[0md_optimizer\u001b[0m \u001b[1;33m=\u001b[0m \u001b[0mtorch\u001b[0m\u001b[1;33m.\u001b[0m\u001b[0moptim\u001b[0m\u001b[1;33m.\u001b[0m\u001b[0mAdam\u001b[0m\u001b[1;33m(\u001b[0m\u001b[0mD\u001b[0m\u001b[1;33m.\u001b[0m\u001b[0mparameters\u001b[0m\u001b[1;33m(\u001b[0m\u001b[1;33m)\u001b[0m\u001b[1;33m,\u001b[0m \u001b[0mlr\u001b[0m\u001b[1;33m=\u001b[0m\u001b[0mlr\u001b[0m\u001b[1;33m,\u001b[0m \u001b[0mbetas\u001b[0m\u001b[1;33m=\u001b[0m\u001b[1;33m(\u001b[0m\u001b[1;36m0.5\u001b[0m\u001b[1;33m,\u001b[0m\u001b[1;36m0.9\u001b[0m\u001b[1;33m)\u001b[0m\u001b[1;33m)\u001b[0m\u001b[1;33m\u001b[0m\u001b[0m\n\u001b[0m\u001b[0;32m      4\u001b[0m \u001b[0mg_optimizer\u001b[0m \u001b[1;33m=\u001b[0m \u001b[0mtorch\u001b[0m\u001b[1;33m.\u001b[0m\u001b[0moptim\u001b[0m\u001b[1;33m.\u001b[0m\u001b[0mAdam\u001b[0m\u001b[1;33m(\u001b[0m\u001b[0mG\u001b[0m\u001b[1;33m.\u001b[0m\u001b[0mparameters\u001b[0m\u001b[1;33m(\u001b[0m\u001b[1;33m)\u001b[0m\u001b[1;33m,\u001b[0m \u001b[0mlr\u001b[0m\u001b[1;33m=\u001b[0m\u001b[0mlr\u001b[0m\u001b[1;33m,\u001b[0m \u001b[0mbetas\u001b[0m\u001b[1;33m=\u001b[0m\u001b[1;33m(\u001b[0m\u001b[1;36m0.5\u001b[0m\u001b[1;33m,\u001b[0m\u001b[1;36m0.9\u001b[0m\u001b[1;33m)\u001b[0m\u001b[1;33m)\u001b[0m\u001b[1;33m\u001b[0m\u001b[0m\n",
      "\u001b[1;31mNameError\u001b[0m: name 'D' is not defined"
     ]
    }
   ],
   "source": [
    "criterion_vanillia = nn.BCELoss()\n",
    "\n",
    "d_optimizer = torch.optim.Adam(D.parameters(), lr=lr, betas=(0.5,0.9))\n",
    "g_optimizer = torch.optim.Adam(G.parameters(), lr=lr, betas=(0.5,0.9))\n"
   ]
  }
 ],
 "metadata": {
  "kernelspec": {
   "display_name": "Python 3",
   "language": "python",
   "name": "python3"
  },
  "language_info": {
   "codemirror_mode": {
    "name": "ipython",
    "version": 3
   },
   "file_extension": ".py",
   "mimetype": "text/x-python",
   "name": "python",
   "nbconvert_exporter": "python",
   "pygments_lexer": "ipython3",
   "version": "3.6.1"
  }
 },
 "nbformat": 4,
 "nbformat_minor": 2
}
